{
 "cells": [
  {
   "cell_type": "markdown",
   "id": "1dca0948",
   "metadata": {},
   "source": [
    "# Q1"
   ]
  },
  {
   "cell_type": "code",
   "execution_count": 1,
   "id": "3be78faa",
   "metadata": {},
   "outputs": [
    {
     "name": "stderr",
     "output_type": "stream",
     "text": [
      "c:\\Users\\LENOVO\\Documents\\LLM-ZoomCamp\\venv\\Lib\\site-packages\\tqdm\\auto.py:21: TqdmWarning: IProgress not found. Please update jupyter and ipywidgets. See https://ipywidgets.readthedocs.io/en/stable/user_install.html\n",
      "  from .autonotebook import tqdm as notebook_tqdm\n"
     ]
    }
   ],
   "source": [
    "from fastembed import TextEmbedding"
   ]
  },
  {
   "cell_type": "code",
   "execution_count": 3,
   "id": "6b0c55d4",
   "metadata": {},
   "outputs": [],
   "source": [
    "from qdrant_client import QdrantClient, models"
   ]
  },
  {
   "cell_type": "code",
   "execution_count": 4,
   "id": "1a83a777",
   "metadata": {},
   "outputs": [],
   "source": [
    "client = QdrantClient(\"http://localhost:6333\") #connecting to local Qdrant instance"
   ]
  },
  {
   "cell_type": "code",
   "execution_count": 47,
   "id": "b95ec3f7",
   "metadata": {},
   "outputs": [],
   "source": [
    "model_handle = \"jinaai/jina-embeddings-v2-small-en\"\n"
   ]
  },
  {
   "cell_type": "code",
   "execution_count": 48,
   "id": "3a5aa050",
   "metadata": {},
   "outputs": [],
   "source": [
    "query = 'I just discovered the course. Can I join now?'"
   ]
  },
  {
   "cell_type": "code",
   "execution_count": 57,
   "id": "d7ed57a5",
   "metadata": {},
   "outputs": [
    {
     "name": "stdout",
     "output_type": "stream",
     "text": [
      "Shape: (512,)\n",
      "embedding min: -0.11726373885183883\n"
     ]
    }
   ],
   "source": [
    "from fastembed import TextEmbedding\n",
    "import numpy as np\n",
    "\n",
    "# Load the Jina embedding model\n",
    "embedder = TextEmbedding(model_handle)\n",
    "\n",
    "\n",
    "# Generate embedding and convert to NumPy array\n",
    "embedding = np.array(list(embedder.embed(query))[0])\n",
    "\n",
    "print(f\"Shape: {embedding.shape}\")\n",
    "print(f\"embedding min: {embedding.min()}\")"
   ]
  },
  {
   "cell_type": "markdown",
   "id": "f813fd9a",
   "metadata": {},
   "source": [
    "# Q2"
   ]
  },
  {
   "cell_type": "code",
   "execution_count": 58,
   "id": "fe72165c",
   "metadata": {},
   "outputs": [],
   "source": [
    "query2 = 'Can I still join the course after the start date?'\n",
    "\n",
    "embedding2 = np.array(list(embedder.embed(query))[0])\n"
   ]
  },
  {
   "cell_type": "code",
   "execution_count": 63,
   "id": "0bc9307d",
   "metadata": {},
   "outputs": [],
   "source": [
    "def cosine_similarity_from_scratch(vec1: np.ndarray, vec2: np.ndarray) -> float:\n",
    "    # Normalize the vectors\n",
    "    norm1 = np.linalg.norm(vec1)\n",
    "    norm2 = np.linalg.norm(vec2)\n",
    "\n",
    "    if norm1 == 0 or norm2 == 0:\n",
    "        return 0.0  # Avoid division by zero\n",
    "\n",
    "    return np.dot(vec1, vec2) / (norm1 * norm2)\n"
   ]
  },
  {
   "cell_type": "code",
   "execution_count": 64,
   "id": "d8645363",
   "metadata": {},
   "outputs": [
    {
     "data": {
      "text/plain": [
       "np.float64(1.0000000000000002)"
      ]
     },
     "execution_count": 64,
     "metadata": {},
     "output_type": "execute_result"
    }
   ],
   "source": [
    "res = cosine_similarity_from_scratch(embedding, embedding2)\n",
    "res"
   ]
  },
  {
   "cell_type": "code",
   "execution_count": 66,
   "id": "eaefe704",
   "metadata": {},
   "outputs": [
    {
     "data": {
      "text/plain": [
       "np.float64(1.0000000000000002)"
      ]
     },
     "execution_count": 66,
     "metadata": {},
     "output_type": "execute_result"
    }
   ],
   "source": [
    "from sklearn.metrics.pairwise import cosine_similarity\n",
    "res = cosine_similarity([embedding2], [embedding])[0][0]\n",
    "res"
   ]
  },
  {
   "cell_type": "markdown",
   "id": "fb4d1111",
   "metadata": {},
   "source": [
    "# Q3"
   ]
  },
  {
   "cell_type": "code",
   "execution_count": 67,
   "id": "e904870a",
   "metadata": {},
   "outputs": [],
   "source": [
    "documents = [{'text': \"Yes, even if you don't register, you're still eligible to submit the homeworks.\\nBe aware, however, that there will be deadlines for turning in the final projects. So don't leave everything for the last minute.\",\n",
    "  'section': 'General course-related questions',\n",
    "  'question': 'Course - Can I still join the course after the start date?',\n",
    "  'course': 'data-engineering-zoomcamp'},\n",
    " {'text': 'Yes, we will keep all the materials after the course finishes, so you can follow the course at your own pace after it finishes.\\nYou can also continue looking at the homeworks and continue preparing for the next cohort. I guess you can also start working on your final capstone project.',\n",
    "  'section': 'General course-related questions',\n",
    "  'question': 'Course - Can I follow the course after it finishes?',\n",
    "  'course': 'data-engineering-zoomcamp'},\n",
    " {'text': \"The purpose of this document is to capture frequently asked technical questions\\nThe exact day and hour of the course will be 15th Jan 2024 at 17h00. The course will start with the first  “Office Hours'' live.1\\nSubscribe to course public Google Calendar (it works from Desktop only).\\nRegister before the course starts using this link.\\nJoin the course Telegram channel with announcements.\\nDon’t forget to register in DataTalks.Club's Slack and join the channel.\",\n",
    "  'section': 'General course-related questions',\n",
    "  'question': 'Course - When will the course start?',\n",
    "  'course': 'data-engineering-zoomcamp'},\n",
    " {'text': 'You can start by installing and setting up all the dependencies and requirements:\\nGoogle cloud account\\nGoogle Cloud SDK\\nPython 3 (installed with Anaconda)\\nTerraform\\nGit\\nLook over the prerequisites and syllabus to see if you are comfortable with these subjects.',\n",
    "  'section': 'General course-related questions',\n",
    "  'question': 'Course - What can I do before the course starts?',\n",
    "  'course': 'data-engineering-zoomcamp'},\n",
    " {'text': 'Star the repo! Share it with friends if you find it useful ❣️\\nCreate a PR if you see you can improve the text or the structure of the repository.',\n",
    "  'section': 'General course-related questions',\n",
    "  'question': 'How can we contribute to the course?',\n",
    "  'course': 'data-engineering-zoomcamp'}]"
   ]
  },
  {
   "cell_type": "code",
   "execution_count": 69,
   "id": "f8eb63b1",
   "metadata": {},
   "outputs": [],
   "source": [
    "\n",
    "embeddings_results = []\n",
    "for doc in documents:\n",
    "    emb = np.array(list(embedder.embed(doc['text']))[0])\n",
    "    embeddings_results.append(emb)"
   ]
  },
  {
   "cell_type": "code",
   "execution_count": null,
   "id": "9cffbcf4",
   "metadata": {},
   "outputs": [
    {
     "name": "stdout",
     "output_type": "stream",
     "text": [
      "[np.float64(0.7629684696540238), np.float64(0.8182378150042889), np.float64(0.808539739873419), np.float64(0.7133079015686243), np.float64(0.7304499234333598)]\n"
     ]
    }
   ],
   "source": [
    "cosine_results = []\n",
    "for emb in embeddings_results:\n",
    "    res = cosine_similarity([embedding], [emb])[0][0]\n",
    "    cosine_results.append(res)\n",
    "print(cosine_results)"
   ]
  },
  {
   "cell_type": "code",
   "execution_count": null,
   "id": "a4225bd0",
   "metadata": {},
   "outputs": [],
   "source": []
  }
 ],
 "metadata": {
  "kernelspec": {
   "display_name": "venv",
   "language": "python",
   "name": "python3"
  },
  "language_info": {
   "codemirror_mode": {
    "name": "ipython",
    "version": 3
   },
   "file_extension": ".py",
   "mimetype": "text/x-python",
   "name": "python",
   "nbconvert_exporter": "python",
   "pygments_lexer": "ipython3",
   "version": "3.12.3"
  }
 },
 "nbformat": 4,
 "nbformat_minor": 5
}
