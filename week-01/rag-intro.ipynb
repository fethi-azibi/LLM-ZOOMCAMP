{
 "cells": [
  {
   "cell_type": "code",
   "execution_count": 1,
   "id": "63b0fd25-41a2-48ad-b9bf-3f1265308bd4",
   "metadata": {},
   "outputs": [],
   "source": [
    "import minsearch"
   ]
  },
  {
   "cell_type": "code",
   "execution_count": 2,
   "id": "9b37cce2-ed84-408b-9106-d61360aa82c9",
   "metadata": {},
   "outputs": [],
   "source": [
    "import json"
   ]
  },
  {
   "cell_type": "code",
   "execution_count": 3,
   "id": "5bdaf6ce-2540-494f-989c-5b94b1b6626c",
   "metadata": {},
   "outputs": [],
   "source": [
    "with open('documents.json', 'rt') as f_in:\n",
    "    docs_raw = json.load(f_in)"
   ]
  },
  {
   "cell_type": "code",
   "execution_count": 4,
   "id": "42b9b1f9-3c90-42b0-beb4-cb419f9cdcea",
   "metadata": {},
   "outputs": [],
   "source": [
    "documents = []\n",
    "\n",
    "for course_dict in docs_raw:\n",
    "    for doc in course_dict['documents']:\n",
    "        doc['course'] = course_dict['course']\n",
    "        documents.append(doc)"
   ]
  },
  {
   "cell_type": "code",
   "execution_count": 5,
   "id": "57de60e5-b96c-499c-a7cf-0f30fc33b324",
   "metadata": {},
   "outputs": [
    {
     "data": {
      "text/plain": [
       "{'text': \"The purpose of this document is to capture frequently asked technical questions\\nThe exact day and hour of the course will be 15th Jan 2024 at 17h00. The course will start with the first  “Office Hours'' live.1\\nSubscribe to course public Google Calendar (it works from Desktop only).\\nRegister before the course starts using this link.\\nJoin the course Telegram channel with announcements.\\nDon’t forget to register in DataTalks.Club's Slack and join the channel.\",\n",
       " 'section': 'General course-related questions',\n",
       " 'question': 'Course - When will the course start?',\n",
       " 'course': 'data-engineering-zoomcamp'}"
      ]
     },
     "execution_count": 5,
     "metadata": {},
     "output_type": "execute_result"
    }
   ],
   "source": [
    "documents[0]"
   ]
  },
  {
   "cell_type": "code",
   "execution_count": 6,
   "id": "c499838b-73b3-44be-8ba6-f46d3693aa59",
   "metadata": {},
   "outputs": [],
   "source": [
    "index = minsearch.Index(\n",
    "    text_fields=[\"question\", \"text\", \"section\"],\n",
    "    keyword_fields=[\"course\"]\n",
    ")"
   ]
  },
  {
   "cell_type": "markdown",
   "id": "e201f0f3-b380-43a5-95ee-62b1b79002d1",
   "metadata": {},
   "source": [
    "SELECT * WHERE course = 'data-engineering-zoomcamp';"
   ]
  },
  {
   "cell_type": "code",
   "execution_count": 7,
   "id": "a8d8ea88-7412-49c1-8a8e-44d0d0862a17",
   "metadata": {},
   "outputs": [],
   "source": [
    "q = 'the course has already started, can I still enroll?'"
   ]
  },
  {
   "cell_type": "code",
   "execution_count": 8,
   "id": "ce7d0d18-5c07-4010-9f90-bbd021f110c8",
   "metadata": {},
   "outputs": [
    {
     "data": {
      "text/plain": [
       "<minsearch.minsearch.Index at 0x19814685640>"
      ]
     },
     "execution_count": 8,
     "metadata": {},
     "output_type": "execute_result"
    }
   ],
   "source": [
    "index.fit(documents)"
   ]
  },
  {
   "cell_type": "code",
   "execution_count": 9,
   "id": "aa755a08-b98d-4e92-8994-04e6108499d9",
   "metadata": {},
   "outputs": [],
   "source": [
    "from openai import OpenAI"
   ]
  },
  {
   "cell_type": "code",
   "execution_count": 29,
   "id": "ef8e9cdc-dfd4-4e54-a332-4b9bde4e6047",
   "metadata": {},
   "outputs": [],
   "source": [
    "# client = OpenAI()\n",
    "client = OpenAI(api_key=\"my-api-key\", base_url=\"https://api.deepseek.com\")\n"
   ]
  },
  {
   "cell_type": "code",
   "execution_count": 30,
   "id": "e7da9664-ecb3-4d89-87da-9b2b942444d0",
   "metadata": {},
   "outputs": [
    {
     "ename": "AuthenticationError",
     "evalue": "Error code: 401 - {'error': {'message': 'Authentication Fails, Your api key: ****-key is invalid', 'type': 'authentication_error', 'param': None, 'code': 'invalid_request_error'}}",
     "output_type": "error",
     "traceback": [
      "\u001b[31m---------------------------------------------------------------------------\u001b[39m",
      "\u001b[31mAuthenticationError\u001b[39m                       Traceback (most recent call last)",
      "\u001b[36mCell\u001b[39m\u001b[36m \u001b[39m\u001b[32mIn[30]\u001b[39m\u001b[32m, line 1\u001b[39m\n\u001b[32m----> \u001b[39m\u001b[32m1\u001b[39m response = \u001b[43mclient\u001b[49m\u001b[43m.\u001b[49m\u001b[43mchat\u001b[49m\u001b[43m.\u001b[49m\u001b[43mcompletions\u001b[49m\u001b[43m.\u001b[49m\u001b[43mcreate\u001b[49m\u001b[43m(\u001b[49m\n\u001b[32m      2\u001b[39m \u001b[43m    \u001b[49m\u001b[43mmodel\u001b[49m\u001b[43m=\u001b[49m\u001b[33;43m'\u001b[39;49m\u001b[33;43mdeepseek-chat\u001b[39;49m\u001b[33;43m'\u001b[39;49m\u001b[43m,\u001b[49m\n\u001b[32m      3\u001b[39m \u001b[43m    \u001b[49m\u001b[43mmessages\u001b[49m\u001b[43m=\u001b[49m\u001b[43m[\u001b[49m\u001b[43m{\u001b[49m\u001b[33;43m\"\u001b[39;49m\u001b[33;43mrole\u001b[39;49m\u001b[33;43m\"\u001b[39;49m\u001b[43m:\u001b[49m\u001b[43m \u001b[49m\u001b[33;43m\"\u001b[39;49m\u001b[33;43muser\u001b[39;49m\u001b[33;43m\"\u001b[39;49m\u001b[43m,\u001b[49m\u001b[43m \u001b[49m\u001b[33;43m\"\u001b[39;49m\u001b[33;43mcontent\u001b[39;49m\u001b[33;43m\"\u001b[39;49m\u001b[43m:\u001b[49m\u001b[43m \u001b[49m\u001b[43mq\u001b[49m\u001b[43m}\u001b[49m\u001b[43m]\u001b[49m\n\u001b[32m      4\u001b[39m \u001b[43m)\u001b[49m\n\u001b[32m      6\u001b[39m response.choices[\u001b[32m0\u001b[39m].message.content\n",
      "\u001b[36mFile \u001b[39m\u001b[32mc:\\Users\\LENOVO\\Documents\\LLM-ZoomCamp\\venv\\Lib\\site-packages\\openai\\_utils\\_utils.py:287\u001b[39m, in \u001b[36mrequired_args.<locals>.inner.<locals>.wrapper\u001b[39m\u001b[34m(*args, **kwargs)\u001b[39m\n\u001b[32m    285\u001b[39m             msg = \u001b[33mf\u001b[39m\u001b[33m\"\u001b[39m\u001b[33mMissing required argument: \u001b[39m\u001b[38;5;132;01m{\u001b[39;00mquote(missing[\u001b[32m0\u001b[39m])\u001b[38;5;132;01m}\u001b[39;00m\u001b[33m\"\u001b[39m\n\u001b[32m    286\u001b[39m     \u001b[38;5;28;01mraise\u001b[39;00m \u001b[38;5;167;01mTypeError\u001b[39;00m(msg)\n\u001b[32m--> \u001b[39m\u001b[32m287\u001b[39m \u001b[38;5;28;01mreturn\u001b[39;00m \u001b[43mfunc\u001b[49m\u001b[43m(\u001b[49m\u001b[43m*\u001b[49m\u001b[43margs\u001b[49m\u001b[43m,\u001b[49m\u001b[43m \u001b[49m\u001b[43m*\u001b[49m\u001b[43m*\u001b[49m\u001b[43mkwargs\u001b[49m\u001b[43m)\u001b[49m\n",
      "\u001b[36mFile \u001b[39m\u001b[32mc:\\Users\\LENOVO\\Documents\\LLM-ZoomCamp\\venv\\Lib\\site-packages\\openai\\resources\\chat\\completions\\completions.py:925\u001b[39m, in \u001b[36mCompletions.create\u001b[39m\u001b[34m(self, messages, model, audio, frequency_penalty, function_call, functions, logit_bias, logprobs, max_completion_tokens, max_tokens, metadata, modalities, n, parallel_tool_calls, prediction, presence_penalty, reasoning_effort, response_format, seed, service_tier, stop, store, stream, stream_options, temperature, tool_choice, tools, top_logprobs, top_p, user, web_search_options, extra_headers, extra_query, extra_body, timeout)\u001b[39m\n\u001b[32m    882\u001b[39m \u001b[38;5;129m@required_args\u001b[39m([\u001b[33m\"\u001b[39m\u001b[33mmessages\u001b[39m\u001b[33m\"\u001b[39m, \u001b[33m\"\u001b[39m\u001b[33mmodel\u001b[39m\u001b[33m\"\u001b[39m], [\u001b[33m\"\u001b[39m\u001b[33mmessages\u001b[39m\u001b[33m\"\u001b[39m, \u001b[33m\"\u001b[39m\u001b[33mmodel\u001b[39m\u001b[33m\"\u001b[39m, \u001b[33m\"\u001b[39m\u001b[33mstream\u001b[39m\u001b[33m\"\u001b[39m])\n\u001b[32m    883\u001b[39m \u001b[38;5;28;01mdef\u001b[39;00m\u001b[38;5;250m \u001b[39m\u001b[34mcreate\u001b[39m(\n\u001b[32m    884\u001b[39m     \u001b[38;5;28mself\u001b[39m,\n\u001b[32m   (...)\u001b[39m\u001b[32m    922\u001b[39m     timeout: \u001b[38;5;28mfloat\u001b[39m | httpx.Timeout | \u001b[38;5;28;01mNone\u001b[39;00m | NotGiven = NOT_GIVEN,\n\u001b[32m    923\u001b[39m ) -> ChatCompletion | Stream[ChatCompletionChunk]:\n\u001b[32m    924\u001b[39m     validate_response_format(response_format)\n\u001b[32m--> \u001b[39m\u001b[32m925\u001b[39m     \u001b[38;5;28;01mreturn\u001b[39;00m \u001b[38;5;28;43mself\u001b[39;49m\u001b[43m.\u001b[49m\u001b[43m_post\u001b[49m\u001b[43m(\u001b[49m\n\u001b[32m    926\u001b[39m \u001b[43m        \u001b[49m\u001b[33;43m\"\u001b[39;49m\u001b[33;43m/chat/completions\u001b[39;49m\u001b[33;43m\"\u001b[39;49m\u001b[43m,\u001b[49m\n\u001b[32m    927\u001b[39m \u001b[43m        \u001b[49m\u001b[43mbody\u001b[49m\u001b[43m=\u001b[49m\u001b[43mmaybe_transform\u001b[49m\u001b[43m(\u001b[49m\n\u001b[32m    928\u001b[39m \u001b[43m            \u001b[49m\u001b[43m{\u001b[49m\n\u001b[32m    929\u001b[39m \u001b[43m                \u001b[49m\u001b[33;43m\"\u001b[39;49m\u001b[33;43mmessages\u001b[39;49m\u001b[33;43m\"\u001b[39;49m\u001b[43m:\u001b[49m\u001b[43m \u001b[49m\u001b[43mmessages\u001b[49m\u001b[43m,\u001b[49m\n\u001b[32m    930\u001b[39m \u001b[43m                \u001b[49m\u001b[33;43m\"\u001b[39;49m\u001b[33;43mmodel\u001b[39;49m\u001b[33;43m\"\u001b[39;49m\u001b[43m:\u001b[49m\u001b[43m \u001b[49m\u001b[43mmodel\u001b[49m\u001b[43m,\u001b[49m\n\u001b[32m    931\u001b[39m \u001b[43m                \u001b[49m\u001b[33;43m\"\u001b[39;49m\u001b[33;43maudio\u001b[39;49m\u001b[33;43m\"\u001b[39;49m\u001b[43m:\u001b[49m\u001b[43m \u001b[49m\u001b[43maudio\u001b[49m\u001b[43m,\u001b[49m\n\u001b[32m    932\u001b[39m \u001b[43m                \u001b[49m\u001b[33;43m\"\u001b[39;49m\u001b[33;43mfrequency_penalty\u001b[39;49m\u001b[33;43m\"\u001b[39;49m\u001b[43m:\u001b[49m\u001b[43m \u001b[49m\u001b[43mfrequency_penalty\u001b[49m\u001b[43m,\u001b[49m\n\u001b[32m    933\u001b[39m \u001b[43m                \u001b[49m\u001b[33;43m\"\u001b[39;49m\u001b[33;43mfunction_call\u001b[39;49m\u001b[33;43m\"\u001b[39;49m\u001b[43m:\u001b[49m\u001b[43m \u001b[49m\u001b[43mfunction_call\u001b[49m\u001b[43m,\u001b[49m\n\u001b[32m    934\u001b[39m \u001b[43m                \u001b[49m\u001b[33;43m\"\u001b[39;49m\u001b[33;43mfunctions\u001b[39;49m\u001b[33;43m\"\u001b[39;49m\u001b[43m:\u001b[49m\u001b[43m \u001b[49m\u001b[43mfunctions\u001b[49m\u001b[43m,\u001b[49m\n\u001b[32m    935\u001b[39m \u001b[43m                \u001b[49m\u001b[33;43m\"\u001b[39;49m\u001b[33;43mlogit_bias\u001b[39;49m\u001b[33;43m\"\u001b[39;49m\u001b[43m:\u001b[49m\u001b[43m \u001b[49m\u001b[43mlogit_bias\u001b[49m\u001b[43m,\u001b[49m\n\u001b[32m    936\u001b[39m \u001b[43m                \u001b[49m\u001b[33;43m\"\u001b[39;49m\u001b[33;43mlogprobs\u001b[39;49m\u001b[33;43m\"\u001b[39;49m\u001b[43m:\u001b[49m\u001b[43m \u001b[49m\u001b[43mlogprobs\u001b[49m\u001b[43m,\u001b[49m\n\u001b[32m    937\u001b[39m \u001b[43m                \u001b[49m\u001b[33;43m\"\u001b[39;49m\u001b[33;43mmax_completion_tokens\u001b[39;49m\u001b[33;43m\"\u001b[39;49m\u001b[43m:\u001b[49m\u001b[43m \u001b[49m\u001b[43mmax_completion_tokens\u001b[49m\u001b[43m,\u001b[49m\n\u001b[32m    938\u001b[39m \u001b[43m                \u001b[49m\u001b[33;43m\"\u001b[39;49m\u001b[33;43mmax_tokens\u001b[39;49m\u001b[33;43m\"\u001b[39;49m\u001b[43m:\u001b[49m\u001b[43m \u001b[49m\u001b[43mmax_tokens\u001b[49m\u001b[43m,\u001b[49m\n\u001b[32m    939\u001b[39m \u001b[43m                \u001b[49m\u001b[33;43m\"\u001b[39;49m\u001b[33;43mmetadata\u001b[39;49m\u001b[33;43m\"\u001b[39;49m\u001b[43m:\u001b[49m\u001b[43m \u001b[49m\u001b[43mmetadata\u001b[49m\u001b[43m,\u001b[49m\n\u001b[32m    940\u001b[39m \u001b[43m                \u001b[49m\u001b[33;43m\"\u001b[39;49m\u001b[33;43mmodalities\u001b[39;49m\u001b[33;43m\"\u001b[39;49m\u001b[43m:\u001b[49m\u001b[43m \u001b[49m\u001b[43mmodalities\u001b[49m\u001b[43m,\u001b[49m\n\u001b[32m    941\u001b[39m \u001b[43m                \u001b[49m\u001b[33;43m\"\u001b[39;49m\u001b[33;43mn\u001b[39;49m\u001b[33;43m\"\u001b[39;49m\u001b[43m:\u001b[49m\u001b[43m \u001b[49m\u001b[43mn\u001b[49m\u001b[43m,\u001b[49m\n\u001b[32m    942\u001b[39m \u001b[43m                \u001b[49m\u001b[33;43m\"\u001b[39;49m\u001b[33;43mparallel_tool_calls\u001b[39;49m\u001b[33;43m\"\u001b[39;49m\u001b[43m:\u001b[49m\u001b[43m \u001b[49m\u001b[43mparallel_tool_calls\u001b[49m\u001b[43m,\u001b[49m\n\u001b[32m    943\u001b[39m \u001b[43m                \u001b[49m\u001b[33;43m\"\u001b[39;49m\u001b[33;43mprediction\u001b[39;49m\u001b[33;43m\"\u001b[39;49m\u001b[43m:\u001b[49m\u001b[43m \u001b[49m\u001b[43mprediction\u001b[49m\u001b[43m,\u001b[49m\n\u001b[32m    944\u001b[39m \u001b[43m                \u001b[49m\u001b[33;43m\"\u001b[39;49m\u001b[33;43mpresence_penalty\u001b[39;49m\u001b[33;43m\"\u001b[39;49m\u001b[43m:\u001b[49m\u001b[43m \u001b[49m\u001b[43mpresence_penalty\u001b[49m\u001b[43m,\u001b[49m\n\u001b[32m    945\u001b[39m \u001b[43m                \u001b[49m\u001b[33;43m\"\u001b[39;49m\u001b[33;43mreasoning_effort\u001b[39;49m\u001b[33;43m\"\u001b[39;49m\u001b[43m:\u001b[49m\u001b[43m \u001b[49m\u001b[43mreasoning_effort\u001b[49m\u001b[43m,\u001b[49m\n\u001b[32m    946\u001b[39m \u001b[43m                \u001b[49m\u001b[33;43m\"\u001b[39;49m\u001b[33;43mresponse_format\u001b[39;49m\u001b[33;43m\"\u001b[39;49m\u001b[43m:\u001b[49m\u001b[43m \u001b[49m\u001b[43mresponse_format\u001b[49m\u001b[43m,\u001b[49m\n\u001b[32m    947\u001b[39m \u001b[43m                \u001b[49m\u001b[33;43m\"\u001b[39;49m\u001b[33;43mseed\u001b[39;49m\u001b[33;43m\"\u001b[39;49m\u001b[43m:\u001b[49m\u001b[43m \u001b[49m\u001b[43mseed\u001b[49m\u001b[43m,\u001b[49m\n\u001b[32m    948\u001b[39m \u001b[43m                \u001b[49m\u001b[33;43m\"\u001b[39;49m\u001b[33;43mservice_tier\u001b[39;49m\u001b[33;43m\"\u001b[39;49m\u001b[43m:\u001b[49m\u001b[43m \u001b[49m\u001b[43mservice_tier\u001b[49m\u001b[43m,\u001b[49m\n\u001b[32m    949\u001b[39m \u001b[43m                \u001b[49m\u001b[33;43m\"\u001b[39;49m\u001b[33;43mstop\u001b[39;49m\u001b[33;43m\"\u001b[39;49m\u001b[43m:\u001b[49m\u001b[43m \u001b[49m\u001b[43mstop\u001b[49m\u001b[43m,\u001b[49m\n\u001b[32m    950\u001b[39m \u001b[43m                \u001b[49m\u001b[33;43m\"\u001b[39;49m\u001b[33;43mstore\u001b[39;49m\u001b[33;43m\"\u001b[39;49m\u001b[43m:\u001b[49m\u001b[43m \u001b[49m\u001b[43mstore\u001b[49m\u001b[43m,\u001b[49m\n\u001b[32m    951\u001b[39m \u001b[43m                \u001b[49m\u001b[33;43m\"\u001b[39;49m\u001b[33;43mstream\u001b[39;49m\u001b[33;43m\"\u001b[39;49m\u001b[43m:\u001b[49m\u001b[43m \u001b[49m\u001b[43mstream\u001b[49m\u001b[43m,\u001b[49m\n\u001b[32m    952\u001b[39m \u001b[43m                \u001b[49m\u001b[33;43m\"\u001b[39;49m\u001b[33;43mstream_options\u001b[39;49m\u001b[33;43m\"\u001b[39;49m\u001b[43m:\u001b[49m\u001b[43m \u001b[49m\u001b[43mstream_options\u001b[49m\u001b[43m,\u001b[49m\n\u001b[32m    953\u001b[39m \u001b[43m                \u001b[49m\u001b[33;43m\"\u001b[39;49m\u001b[33;43mtemperature\u001b[39;49m\u001b[33;43m\"\u001b[39;49m\u001b[43m:\u001b[49m\u001b[43m \u001b[49m\u001b[43mtemperature\u001b[49m\u001b[43m,\u001b[49m\n\u001b[32m    954\u001b[39m \u001b[43m                \u001b[49m\u001b[33;43m\"\u001b[39;49m\u001b[33;43mtool_choice\u001b[39;49m\u001b[33;43m\"\u001b[39;49m\u001b[43m:\u001b[49m\u001b[43m \u001b[49m\u001b[43mtool_choice\u001b[49m\u001b[43m,\u001b[49m\n\u001b[32m    955\u001b[39m \u001b[43m                \u001b[49m\u001b[33;43m\"\u001b[39;49m\u001b[33;43mtools\u001b[39;49m\u001b[33;43m\"\u001b[39;49m\u001b[43m:\u001b[49m\u001b[43m \u001b[49m\u001b[43mtools\u001b[49m\u001b[43m,\u001b[49m\n\u001b[32m    956\u001b[39m \u001b[43m                \u001b[49m\u001b[33;43m\"\u001b[39;49m\u001b[33;43mtop_logprobs\u001b[39;49m\u001b[33;43m\"\u001b[39;49m\u001b[43m:\u001b[49m\u001b[43m \u001b[49m\u001b[43mtop_logprobs\u001b[49m\u001b[43m,\u001b[49m\n\u001b[32m    957\u001b[39m \u001b[43m                \u001b[49m\u001b[33;43m\"\u001b[39;49m\u001b[33;43mtop_p\u001b[39;49m\u001b[33;43m\"\u001b[39;49m\u001b[43m:\u001b[49m\u001b[43m \u001b[49m\u001b[43mtop_p\u001b[49m\u001b[43m,\u001b[49m\n\u001b[32m    958\u001b[39m \u001b[43m                \u001b[49m\u001b[33;43m\"\u001b[39;49m\u001b[33;43muser\u001b[39;49m\u001b[33;43m\"\u001b[39;49m\u001b[43m:\u001b[49m\u001b[43m \u001b[49m\u001b[43muser\u001b[49m\u001b[43m,\u001b[49m\n\u001b[32m    959\u001b[39m \u001b[43m                \u001b[49m\u001b[33;43m\"\u001b[39;49m\u001b[33;43mweb_search_options\u001b[39;49m\u001b[33;43m\"\u001b[39;49m\u001b[43m:\u001b[49m\u001b[43m \u001b[49m\u001b[43mweb_search_options\u001b[49m\u001b[43m,\u001b[49m\n\u001b[32m    960\u001b[39m \u001b[43m            \u001b[49m\u001b[43m}\u001b[49m\u001b[43m,\u001b[49m\n\u001b[32m    961\u001b[39m \u001b[43m            \u001b[49m\u001b[43mcompletion_create_params\u001b[49m\u001b[43m.\u001b[49m\u001b[43mCompletionCreateParamsStreaming\u001b[49m\n\u001b[32m    962\u001b[39m \u001b[43m            \u001b[49m\u001b[38;5;28;43;01mif\u001b[39;49;00m\u001b[43m \u001b[49m\u001b[43mstream\u001b[49m\n\u001b[32m    963\u001b[39m \u001b[43m            \u001b[49m\u001b[38;5;28;43;01melse\u001b[39;49;00m\u001b[43m \u001b[49m\u001b[43mcompletion_create_params\u001b[49m\u001b[43m.\u001b[49m\u001b[43mCompletionCreateParamsNonStreaming\u001b[49m\u001b[43m,\u001b[49m\n\u001b[32m    964\u001b[39m \u001b[43m        \u001b[49m\u001b[43m)\u001b[49m\u001b[43m,\u001b[49m\n\u001b[32m    965\u001b[39m \u001b[43m        \u001b[49m\u001b[43moptions\u001b[49m\u001b[43m=\u001b[49m\u001b[43mmake_request_options\u001b[49m\u001b[43m(\u001b[49m\n\u001b[32m    966\u001b[39m \u001b[43m            \u001b[49m\u001b[43mextra_headers\u001b[49m\u001b[43m=\u001b[49m\u001b[43mextra_headers\u001b[49m\u001b[43m,\u001b[49m\u001b[43m \u001b[49m\u001b[43mextra_query\u001b[49m\u001b[43m=\u001b[49m\u001b[43mextra_query\u001b[49m\u001b[43m,\u001b[49m\u001b[43m \u001b[49m\u001b[43mextra_body\u001b[49m\u001b[43m=\u001b[49m\u001b[43mextra_body\u001b[49m\u001b[43m,\u001b[49m\u001b[43m \u001b[49m\u001b[43mtimeout\u001b[49m\u001b[43m=\u001b[49m\u001b[43mtimeout\u001b[49m\n\u001b[32m    967\u001b[39m \u001b[43m        \u001b[49m\u001b[43m)\u001b[49m\u001b[43m,\u001b[49m\n\u001b[32m    968\u001b[39m \u001b[43m        \u001b[49m\u001b[43mcast_to\u001b[49m\u001b[43m=\u001b[49m\u001b[43mChatCompletion\u001b[49m\u001b[43m,\u001b[49m\n\u001b[32m    969\u001b[39m \u001b[43m        \u001b[49m\u001b[43mstream\u001b[49m\u001b[43m=\u001b[49m\u001b[43mstream\u001b[49m\u001b[43m \u001b[49m\u001b[38;5;129;43;01mor\u001b[39;49;00m\u001b[43m \u001b[49m\u001b[38;5;28;43;01mFalse\u001b[39;49;00m\u001b[43m,\u001b[49m\n\u001b[32m    970\u001b[39m \u001b[43m        \u001b[49m\u001b[43mstream_cls\u001b[49m\u001b[43m=\u001b[49m\u001b[43mStream\u001b[49m\u001b[43m[\u001b[49m\u001b[43mChatCompletionChunk\u001b[49m\u001b[43m]\u001b[49m\u001b[43m,\u001b[49m\n\u001b[32m    971\u001b[39m \u001b[43m    \u001b[49m\u001b[43m)\u001b[49m\n",
      "\u001b[36mFile \u001b[39m\u001b[32mc:\\Users\\LENOVO\\Documents\\LLM-ZoomCamp\\venv\\Lib\\site-packages\\openai\\_base_client.py:1242\u001b[39m, in \u001b[36mSyncAPIClient.post\u001b[39m\u001b[34m(self, path, cast_to, body, options, files, stream, stream_cls)\u001b[39m\n\u001b[32m   1228\u001b[39m \u001b[38;5;28;01mdef\u001b[39;00m\u001b[38;5;250m \u001b[39m\u001b[34mpost\u001b[39m(\n\u001b[32m   1229\u001b[39m     \u001b[38;5;28mself\u001b[39m,\n\u001b[32m   1230\u001b[39m     path: \u001b[38;5;28mstr\u001b[39m,\n\u001b[32m   (...)\u001b[39m\u001b[32m   1237\u001b[39m     stream_cls: \u001b[38;5;28mtype\u001b[39m[_StreamT] | \u001b[38;5;28;01mNone\u001b[39;00m = \u001b[38;5;28;01mNone\u001b[39;00m,\n\u001b[32m   1238\u001b[39m ) -> ResponseT | _StreamT:\n\u001b[32m   1239\u001b[39m     opts = FinalRequestOptions.construct(\n\u001b[32m   1240\u001b[39m         method=\u001b[33m\"\u001b[39m\u001b[33mpost\u001b[39m\u001b[33m\"\u001b[39m, url=path, json_data=body, files=to_httpx_files(files), **options\n\u001b[32m   1241\u001b[39m     )\n\u001b[32m-> \u001b[39m\u001b[32m1242\u001b[39m     \u001b[38;5;28;01mreturn\u001b[39;00m cast(ResponseT, \u001b[38;5;28;43mself\u001b[39;49m\u001b[43m.\u001b[49m\u001b[43mrequest\u001b[49m\u001b[43m(\u001b[49m\u001b[43mcast_to\u001b[49m\u001b[43m,\u001b[49m\u001b[43m \u001b[49m\u001b[43mopts\u001b[49m\u001b[43m,\u001b[49m\u001b[43m \u001b[49m\u001b[43mstream\u001b[49m\u001b[43m=\u001b[49m\u001b[43mstream\u001b[49m\u001b[43m,\u001b[49m\u001b[43m \u001b[49m\u001b[43mstream_cls\u001b[49m\u001b[43m=\u001b[49m\u001b[43mstream_cls\u001b[49m\u001b[43m)\u001b[49m)\n",
      "\u001b[36mFile \u001b[39m\u001b[32mc:\\Users\\LENOVO\\Documents\\LLM-ZoomCamp\\venv\\Lib\\site-packages\\openai\\_base_client.py:1037\u001b[39m, in \u001b[36mSyncAPIClient.request\u001b[39m\u001b[34m(self, cast_to, options, stream, stream_cls)\u001b[39m\n\u001b[32m   1034\u001b[39m             err.response.read()\n\u001b[32m   1036\u001b[39m         log.debug(\u001b[33m\"\u001b[39m\u001b[33mRe-raising status error\u001b[39m\u001b[33m\"\u001b[39m)\n\u001b[32m-> \u001b[39m\u001b[32m1037\u001b[39m         \u001b[38;5;28;01mraise\u001b[39;00m \u001b[38;5;28mself\u001b[39m._make_status_error_from_response(err.response) \u001b[38;5;28;01mfrom\u001b[39;00m\u001b[38;5;250m \u001b[39m\u001b[38;5;28;01mNone\u001b[39;00m\n\u001b[32m   1039\u001b[39m     \u001b[38;5;28;01mbreak\u001b[39;00m\n\u001b[32m   1041\u001b[39m \u001b[38;5;28;01massert\u001b[39;00m response \u001b[38;5;129;01mis\u001b[39;00m \u001b[38;5;129;01mnot\u001b[39;00m \u001b[38;5;28;01mNone\u001b[39;00m, \u001b[33m\"\u001b[39m\u001b[33mcould not resolve response (should never happen)\u001b[39m\u001b[33m\"\u001b[39m\n",
      "\u001b[31mAuthenticationError\u001b[39m: Error code: 401 - {'error': {'message': 'Authentication Fails, Your api key: ****-key is invalid', 'type': 'authentication_error', 'param': None, 'code': 'invalid_request_error'}}"
     ]
    }
   ],
   "source": [
    "response = client.chat.completions.create(\n",
    "    model='deepseek-chat',\n",
    "    messages=[{\"role\": \"user\", \"content\": q}]\n",
    ")\n",
    "\n",
    "response.choices[0].message.content"
   ]
  },
  {
   "cell_type": "code",
   "execution_count": null,
   "id": "b21237c3-80e9-429c-a089-d45428087046",
   "metadata": {},
   "outputs": [
    {
     "name": "stdout",
     "output_type": "stream",
     "text": [
      "[{'text': 'In the project directory, run:\\njava -cp build/libs/<jar_name>-1.0-SNAPSHOT.jar:out src/main/java/org/example/JsonProducer.java', 'section': 'Module 6: streaming with kafka', 'question': 'Java Kafka: How to run producer/consumer/kstreams/etc in terminal', 'course': 'data-engineering-zoomcamp'}, {'text': \"Solution from Alexey: create a virtual environment and run requirements.txt and the python files in that environment.\\nTo create a virtual env and install packages (run only once)\\npython -m venv env\\nsource env/bin/activate\\npip install -r ../requirements.txt\\nTo activate it (you'll need to run it every time you need the virtual env):\\nsource env/bin/activate\\nTo deactivate it:\\ndeactivate\\nThis works on MacOS, Linux and Windows - but for Windows the path is slightly different (it's env/Scripts/activate)\\nAlso the virtual environment should be created only to run the python file. Docker images should first all be up and running.\", 'section': 'Module 6: streaming with kafka', 'question': 'Module “kafka” not found when trying to run producer.py', 'course': 'data-engineering-zoomcamp'}, {'text': \"Answer: To run the provided code, ensure that the 'dlt[duckdb]' package is installed. You can do this by executing the provided installation command: !pip install dlt[duckdb]. If you’re doing it locally, be sure to also have duckdb pip installed (even before the duckdb package is loaded).\", 'section': 'Workshop 1 - dlthub', 'question': 'How do I install the necessary dependencies to run the code?', 'course': 'data-engineering-zoomcamp'}, {'text': 'Run this command in terminal in the same directory (/docker/spark):\\nchmod +x build.sh', 'section': 'Module 6: streaming with kafka', 'question': 'Python Kafka: ./build.sh: Permission denied Error', 'course': 'data-engineering-zoomcamp'}, {'text': 'According to https://github.com/dpkp/kafka-python/\\n“DUE TO ISSUES WITH RELEASES, IT IS SUGGESTED TO USE https://github.com/wbarnha/kafka-python-ng FOR THE TIME BEING”\\nUse pip install kafka-python-ng instead', 'section': 'Project', 'question': 'How to fix the error \"ModuleNotFoundError: No module named \\'kafka.vendor.six.moves\\'\"?', 'course': 'data-engineering-zoomcamp'}]\n"
     ]
    }
   ],
   "source": [
    "def search(query):\n",
    "    boost = {'question': 3.0, 'section': 0.5}\n",
    "\n",
    "    results = index.search(\n",
    "        query=query,\n",
    "        filter_dict={'course': 'data-engineering-zoomcamp'},\n",
    "        boost_dict=boost,\n",
    "        num_results=5\n",
    "    )\n",
    "    print(results)\n",
    "    return results\n",
    "\n"
   ]
  },
  {
   "cell_type": "code",
   "execution_count": 16,
   "id": "8cc5784e-6515-42e5-be62-8fb915df1088",
   "metadata": {},
   "outputs": [],
   "source": [
    "def build_prompt(query, search_results):\n",
    "    prompt_template = \"\"\"\n",
    "You're a course teaching assistant. Answer the QUESTION based on the CONTEXT from the FAQ database.\n",
    "Use only the facts from the CONTEXT when answering the QUESTION.\n",
    "\n",
    "QUESTION: {question}\n",
    "\n",
    "CONTEXT: \n",
    "{context}\n",
    "\"\"\".strip()\n",
    "\n",
    "    context = \"\"\n",
    "    \n",
    "    for doc in search_results:\n",
    "        context = context + f\"section: {doc['section']}\\nquestion: {doc['question']}\\nanswer: {doc['text']}\\n\\n\"\n",
    "    \n",
    "    prompt = prompt_template.format(question=query, context=context).strip()\n",
    "    return prompt"
   ]
  },
  {
   "cell_type": "code",
   "execution_count": 17,
   "id": "97d35dec-c25f-472d-b961-20d5c30902ae",
   "metadata": {},
   "outputs": [],
   "source": [
    "def llm(prompt):\n",
    "    response = client.chat.completions.create(\n",
    "        model='deepseek-chat',\n",
    "        messages=[{\"role\": \"user\", \"content\": prompt}]\n",
    "    )\n",
    "    \n",
    "    return response.choices[0].message.content"
   ]
  },
  {
   "cell_type": "code",
   "execution_count": null,
   "id": "8602f40b-ad3b-49c9-b3cc-051a79c888bc",
   "metadata": {},
   "outputs": [],
   "source": [
    "query = 'how do I run kafka?'\n",
    "\n",
    "def rag(query):\n",
    "    search_results = search(query)\n",
    "    prompt = build_prompt(query, search_results)\n",
    "    answer = llm(prompt)\n",
    "    return answer"
   ]
  },
  {
   "cell_type": "code",
   "execution_count": null,
   "id": "5fd4497b-c5d5-4258-b950-6b35d1af4ec5",
   "metadata": {},
   "outputs": [],
   "source": [
    "rag(query)"
   ]
  },
  {
   "cell_type": "code",
   "execution_count": 20,
   "id": "385b012f-4905-422d-8d7c-3d542dfe5a7c",
   "metadata": {},
   "outputs": [
    {
     "data": {
      "text/plain": [
       "\"Yes, you can still enroll in the course even after it has started. According to the FAQ, you are eligible to submit homeworks without registering, but be mindful of the deadlines for final projects. Additionally, all course materials will remain available after the course finishes, allowing you to follow the course at your own pace. \\n\\nFor more details, you can join the course Telegram channel, register in DataTalks.Club's Slack, and subscribe to the public Google Calendar for updates.\""
      ]
     },
     "execution_count": 20,
     "metadata": {},
     "output_type": "execute_result"
    }
   ],
   "source": [
    "rag('the course has already started, can I still enroll?')"
   ]
  },
  {
   "cell_type": "code",
   "execution_count": 18,
   "id": "d3e04fb3-b7f7-4e53-8de9-a1c6cde3f038",
   "metadata": {},
   "outputs": [
    {
     "data": {
      "text/plain": [
       "{'text': \"The purpose of this document is to capture frequently asked technical questions\\nThe exact day and hour of the course will be 15th Jan 2024 at 17h00. The course will start with the first  “Office Hours'' live.1\\nSubscribe to course public Google Calendar (it works from Desktop only).\\nRegister before the course starts using this link.\\nJoin the course Telegram channel with announcements.\\nDon’t forget to register in DataTalks.Club's Slack and join the channel.\",\n",
       " 'section': 'General course-related questions',\n",
       " 'question': 'Course - When will the course start?',\n",
       " 'course': 'data-engineering-zoomcamp'}"
      ]
     },
     "execution_count": 18,
     "metadata": {},
     "output_type": "execute_result"
    }
   ],
   "source": [
    "documents[0]"
   ]
  },
  {
   "cell_type": "code",
   "execution_count": null,
   "id": "20f5c7e0",
   "metadata": {},
   "outputs": [
    {
     "name": "stdout",
     "output_type": "stream",
     "text": [
      "Collecting elasticsearch\n",
      "  Downloading elasticsearch-9.0.2-py3-none-any.whl.metadata (8.4 kB)\n",
      "Collecting elastic-transport<9,>=8.15.1 (from elasticsearch)\n",
      "  Downloading elastic_transport-8.17.1-py3-none-any.whl.metadata (3.8 kB)\n",
      "Requirement already satisfied: python-dateutil in c:\\users\\lenovo\\documents\\llm-zoomcamp\\venv\\lib\\site-packages (from elasticsearch) (2.9.0.post0)\n",
      "Requirement already satisfied: typing-extensions in c:\\users\\lenovo\\documents\\llm-zoomcamp\\venv\\lib\\site-packages (from elasticsearch) (4.14.0)\n",
      "Collecting urllib3<3,>=1.26.2 (from elastic-transport<9,>=8.15.1->elasticsearch)\n",
      "  Using cached urllib3-2.4.0-py3-none-any.whl.metadata (6.5 kB)\n",
      "Requirement already satisfied: certifi in c:\\users\\lenovo\\documents\\llm-zoomcamp\\venv\\lib\\site-packages (from elastic-transport<9,>=8.15.1->elasticsearch) (2025.4.26)\n",
      "Requirement already satisfied: six>=1.5 in c:\\users\\lenovo\\documents\\llm-zoomcamp\\venv\\lib\\site-packages (from python-dateutil->elasticsearch) (1.17.0)\n",
      "Downloading elasticsearch-9.0.2-py3-none-any.whl (914 kB)\n",
      "   ---------------------------------------- 0.0/914.3 kB ? eta -:--:--\n",
      "   ---------------------------------------- 10.2/914.3 kB ? eta -:--:--\n",
      "   - ------------------------------------- 30.7/914.3 kB 435.7 kB/s eta 0:00:03\n",
      "   - ------------------------------------- 30.7/914.3 kB 435.7 kB/s eta 0:00:03\n",
      "   --- ----------------------------------- 81.9/914.3 kB 459.5 kB/s eta 0:00:02\n",
      "   --- ----------------------------------- 81.9/914.3 kB 459.5 kB/s eta 0:00:02\n",
      "   --- ----------------------------------- 81.9/914.3 kB 459.5 kB/s eta 0:00:02\n",
      "   --- ----------------------------------- 81.9/914.3 kB 459.5 kB/s eta 0:00:02\n",
      "   --- ----------------------------------- 81.9/914.3 kB 459.5 kB/s eta 0:00:02\n",
      "   ------ ------------------------------- 153.6/914.3 kB 367.6 kB/s eta 0:00:03\n",
      "   ------ ------------------------------- 153.6/914.3 kB 367.6 kB/s eta 0:00:03\n",
      "   -------- ----------------------------- 194.6/914.3 kB 368.6 kB/s eta 0:00:02\n",
      "   -------- ----------------------------- 204.8/914.3 kB 355.7 kB/s eta 0:00:02\n",
      "   --------- ---------------------------- 225.3/914.3 kB 344.1 kB/s eta 0:00:03\n",
      "   --------- ---------------------------- 235.5/914.3 kB 335.2 kB/s eta 0:00:03\n",
      "   ----------- -------------------------- 286.7/914.3 kB 354.0 kB/s eta 0:00:02\n",
      "   ----------- -------------------------- 286.7/914.3 kB 354.0 kB/s eta 0:00:02\n",
      "   ----------- -------------------------- 286.7/914.3 kB 354.0 kB/s eta 0:00:02\n",
      "   ------------- ------------------------ 317.4/914.3 kB 339.1 kB/s eta 0:00:02\n",
      "   -------------- ----------------------- 337.9/914.3 kB 349.7 kB/s eta 0:00:02\n",
      "   --------------- ---------------------- 368.6/914.3 kB 353.1 kB/s eta 0:00:02\n",
      "   ---------------- --------------------- 399.4/914.3 kB 361.0 kB/s eta 0:00:02\n",
      "   ---------------- --------------------- 399.4/914.3 kB 361.0 kB/s eta 0:00:02\n",
      "   ----------------- -------------------- 419.8/914.3 kB 349.5 kB/s eta 0:00:02\n",
      "   ------------------ ------------------- 440.3/914.3 kB 357.5 kB/s eta 0:00:02\n",
      "   ------------------ ------------------- 450.6/914.3 kB 356.8 kB/s eta 0:00:02\n",
      "   -------------------- ----------------- 481.3/914.3 kB 354.7 kB/s eta 0:00:02\n",
      "   -------------------- ----------------- 481.3/914.3 kB 354.7 kB/s eta 0:00:02\n",
      "   -------------------- ----------------- 501.8/914.3 kB 345.7 kB/s eta 0:00:02\n",
      "   -------------------- ----------------- 501.8/914.3 kB 345.7 kB/s eta 0:00:02\n",
      "   --------------------- ---------------- 522.2/914.3 kB 334.4 kB/s eta 0:00:02\n",
      "   ---------------------- --------------- 532.5/914.3 kB 327.6 kB/s eta 0:00:02\n",
      "   ---------------------- --------------- 532.5/914.3 kB 327.6 kB/s eta 0:00:02\n",
      "   ---------------------- --------------- 532.5/914.3 kB 327.6 kB/s eta 0:00:02\n",
      "   ---------------------- --------------- 532.5/914.3 kB 327.6 kB/s eta 0:00:02\n",
      "   ---------------------- --------------- 553.0/914.3 kB 307.5 kB/s eta 0:00:02\n",
      "   ---------------------- --------------- 553.0/914.3 kB 307.5 kB/s eta 0:00:02\n",
      "   ---------------------- --------------- 553.0/914.3 kB 307.5 kB/s eta 0:00:02\n",
      "   ----------------------- -------------- 563.2/914.3 kB 285.5 kB/s eta 0:00:02\n",
      "   ----------------------- -------------- 563.2/914.3 kB 285.5 kB/s eta 0:00:02\n",
      "   ----------------------- -------------- 563.2/914.3 kB 285.5 kB/s eta 0:00:02\n",
      "   ----------------------- -------------- 563.2/914.3 kB 285.5 kB/s eta 0:00:02\n",
      "   ----------------------- -------------- 563.2/914.3 kB 285.5 kB/s eta 0:00:02\n",
      "   ----------------------- -------------- 563.2/914.3 kB 285.5 kB/s eta 0:00:02\n",
      "   ----------------------- -------------- 563.2/914.3 kB 285.5 kB/s eta 0:00:02\n",
      "   ------------------------ ------------- 583.7/914.3 kB 248.0 kB/s eta 0:00:02\n",
      "   ------------------------ ------------- 583.7/914.3 kB 248.0 kB/s eta 0:00:02\n",
      "   ------------------------ ------------- 583.7/914.3 kB 248.0 kB/s eta 0:00:02\n",
      "   ------------------------ ------------- 583.7/914.3 kB 248.0 kB/s eta 0:00:02\n",
      "   ------------------------ ------------- 583.7/914.3 kB 248.0 kB/s eta 0:00:02\n",
      "   ------------------------ ------------- 583.7/914.3 kB 248.0 kB/s eta 0:00:02\n",
      "   ------------------------- ------------ 604.2/914.3 kB 225.0 kB/s eta 0:00:02\n",
      "   ------------------------- ------------ 604.2/914.3 kB 225.0 kB/s eta 0:00:02\n",
      "   ------------------------- ------------ 604.2/914.3 kB 225.0 kB/s eta 0:00:02\n",
      "   ------------------------- ------------ 614.4/914.3 kB 214.8 kB/s eta 0:00:02\n",
      "   -------------------------- ----------- 634.9/914.3 kB 213.8 kB/s eta 0:00:02\n",
      "   -------------------------- ----------- 634.9/914.3 kB 213.8 kB/s eta 0:00:02\n",
      "   -------------------------- ----------- 645.1/914.3 kB 209.5 kB/s eta 0:00:02\n",
      "   --------------------------- ---------- 655.4/914.3 kB 203.4 kB/s eta 0:00:02\n",
      "   --------------------------- ---------- 665.6/914.3 kB 204.6 kB/s eta 0:00:02\n",
      "   ---------------------------- --------- 686.1/914.3 kB 207.0 kB/s eta 0:00:02\n",
      "   ---------------------------- --------- 686.1/914.3 kB 207.0 kB/s eta 0:00:02\n",
      "   ---------------------------- --------- 686.1/914.3 kB 207.0 kB/s eta 0:00:02\n",
      "   ---------------------------- --------- 686.1/914.3 kB 207.0 kB/s eta 0:00:02\n",
      "   ---------------------------- --------- 696.3/914.3 kB 195.2 kB/s eta 0:00:02\n",
      "   ---------------------------- --------- 696.3/914.3 kB 195.2 kB/s eta 0:00:02\n",
      "   ---------------------------- --------- 696.3/914.3 kB 195.2 kB/s eta 0:00:02\n",
      "   ----------------------------- -------- 716.8/914.3 kB 190.8 kB/s eta 0:00:02\n",
      "   ----------------------------- -------- 716.8/914.3 kB 190.8 kB/s eta 0:00:02\n",
      "   ----------------------------- -------- 716.8/914.3 kB 190.8 kB/s eta 0:00:02\n",
      "   ----------------------------- -------- 716.8/914.3 kB 190.8 kB/s eta 0:00:02\n",
      "   ----------------------------- -------- 716.8/914.3 kB 190.8 kB/s eta 0:00:02\n",
      "   ----------------------------- -------- 716.8/914.3 kB 190.8 kB/s eta 0:00:02\n",
      "   ----------------------------- -------- 716.8/914.3 kB 190.8 kB/s eta 0:00:02\n",
      "   ----------------------------- -------- 716.8/914.3 kB 190.8 kB/s eta 0:00:02\n",
      "   ----------------------------- -------- 716.8/914.3 kB 190.8 kB/s eta 0:00:02\n",
      "   ----------------------------- -------- 716.8/914.3 kB 190.8 kB/s eta 0:00:02\n",
      "   ----------------------------- -------- 716.8/914.3 kB 190.8 kB/s eta 0:00:02\n",
      "   ----------------------------- -------- 716.8/914.3 kB 190.8 kB/s eta 0:00:02\n",
      "   ------------------------------ ------- 727.0/914.3 kB 165.6 kB/s eta 0:00:02\n",
      "   ------------------------------ ------- 727.0/914.3 kB 165.6 kB/s eta 0:00:02\n",
      "   ------------------------------ ------- 727.0/914.3 kB 165.6 kB/s eta 0:00:02\n",
      "   ------------------------------ ------- 727.0/914.3 kB 165.6 kB/s eta 0:00:02\n",
      "   ------------------------------ ------- 727.0/914.3 kB 165.6 kB/s eta 0:00:02\n",
      "   ------------------------------ ------- 727.0/914.3 kB 165.6 kB/s eta 0:00:02\n",
      "   ------------------------------ ------- 727.0/914.3 kB 165.6 kB/s eta 0:00:02\n",
      "   ------------------------------ ------- 727.0/914.3 kB 165.6 kB/s eta 0:00:02\n",
      "   ------------------------------ ------- 727.0/914.3 kB 165.6 kB/s eta 0:00:02\n",
      "   ------------------------------ ------- 727.0/914.3 kB 165.6 kB/s eta 0:00:02\n",
      "   ------------------------------ ------- 727.0/914.3 kB 165.6 kB/s eta 0:00:02\n",
      "   ------------------------------ ------- 727.0/914.3 kB 165.6 kB/s eta 0:00:02\n",
      "   ------------------------------ ------- 727.0/914.3 kB 165.6 kB/s eta 0:00:02\n",
      "   ------------------------------ ------- 727.0/914.3 kB 165.6 kB/s eta 0:00:02\n",
      "   ------------------------------- ------ 747.5/914.3 kB 148.9 kB/s eta 0:00:02\n",
      "   ------------------------------- ------ 747.5/914.3 kB 148.9 kB/s eta 0:00:02\n",
      "   ------------------------------- ------ 747.5/914.3 kB 148.9 kB/s eta 0:00:02\n",
      "   ------------------------------- ------ 747.5/914.3 kB 148.9 kB/s eta 0:00:02\n",
      "   ------------------------------- ------ 747.5/914.3 kB 148.9 kB/s eta 0:00:02\n",
      "   ------------------------------- ------ 747.5/914.3 kB 148.9 kB/s eta 0:00:02\n",
      "   ------------------------------- ------ 747.5/914.3 kB 148.9 kB/s eta 0:00:02\n",
      "   ------------------------------- ------ 747.5/914.3 kB 148.9 kB/s eta 0:00:02\n",
      "   ------------------------------- ------ 768.0/914.3 kB 141.0 kB/s eta 0:00:02\n",
      "   ------------------------------- ------ 768.0/914.3 kB 141.0 kB/s eta 0:00:02\n",
      "   ------------------------------- ------ 768.0/914.3 kB 141.0 kB/s eta 0:00:02\n",
      "   ------------------------------- ------ 768.0/914.3 kB 141.0 kB/s eta 0:00:02\n",
      "   ------------------------------- ------ 768.0/914.3 kB 141.0 kB/s eta 0:00:02\n",
      "   ------------------------------- ------ 768.0/914.3 kB 141.0 kB/s eta 0:00:02\n",
      "   ------------------------------- ------ 768.0/914.3 kB 141.0 kB/s eta 0:00:02\n",
      "   -------------------------------- ----- 778.2/914.3 kB 134.7 kB/s eta 0:00:02\n",
      "   -------------------------------- ----- 778.2/914.3 kB 134.7 kB/s eta 0:00:02\n",
      "   -------------------------------- ----- 778.2/914.3 kB 134.7 kB/s eta 0:00:02\n",
      "   -------------------------------- ----- 778.2/914.3 kB 134.7 kB/s eta 0:00:02\n",
      "   -------------------------------- ----- 778.2/914.3 kB 134.7 kB/s eta 0:00:02\n",
      "   --------------------------------- ---- 798.7/914.3 kB 132.1 kB/s eta 0:00:01\n",
      "   --------------------------------- ---- 798.7/914.3 kB 132.1 kB/s eta 0:00:01\n",
      "   --------------------------------- ---- 798.7/914.3 kB 132.1 kB/s eta 0:00:01\n",
      "   --------------------------------- ---- 798.7/914.3 kB 132.1 kB/s eta 0:00:01\n",
      "   --------------------------------- ---- 798.7/914.3 kB 132.1 kB/s eta 0:00:01\n",
      "   --------------------------------- ---- 798.7/914.3 kB 132.1 kB/s eta 0:00:01\n",
      "   --------------------------------- ---- 798.7/914.3 kB 132.1 kB/s eta 0:00:01\n",
      "   --------------------------------- ---- 798.7/914.3 kB 132.1 kB/s eta 0:00:01\n",
      "   --------------------------------- ---- 798.7/914.3 kB 132.1 kB/s eta 0:00:01\n",
      "   --------------------------------- ---- 798.7/914.3 kB 132.1 kB/s eta 0:00:01\n",
      "   --------------------------------- ---- 798.7/914.3 kB 132.1 kB/s eta 0:00:01\n",
      "   --------------------------------- ---- 798.7/914.3 kB 132.1 kB/s eta 0:00:01\n",
      "   --------------------------------- ---- 798.7/914.3 kB 132.1 kB/s eta 0:00:01\n",
      "   --------------------------------- ---- 798.7/914.3 kB 132.1 kB/s eta 0:00:01\n",
      "   --------------------------------- ---- 798.7/914.3 kB 132.1 kB/s eta 0:00:01\n",
      "   --------------------------------- ---- 798.7/914.3 kB 132.1 kB/s eta 0:00:01\n",
      "   --------------------------------- ---- 798.7/914.3 kB 132.1 kB/s eta 0:00:01\n",
      "   --------------------------------- ---- 798.7/914.3 kB 132.1 kB/s eta 0:00:01\n",
      "   --------------------------------- ---- 809.0/914.3 kB 116.4 kB/s eta 0:00:01\n",
      "   --------------------------------- ---- 809.0/914.3 kB 116.4 kB/s eta 0:00:01\n",
      "   --------------------------------- ---- 809.0/914.3 kB 116.4 kB/s eta 0:00:01\n",
      "   --------------------------------- ---- 809.0/914.3 kB 116.4 kB/s eta 0:00:01\n",
      "   --------------------------------- ---- 809.0/914.3 kB 116.4 kB/s eta 0:00:01\n",
      "   --------------------------------- ---- 809.0/914.3 kB 116.4 kB/s eta 0:00:01\n",
      "   --------------------------------- ---- 809.0/914.3 kB 116.4 kB/s eta 0:00:01\n",
      "   --------------------------------- ---- 809.0/914.3 kB 116.4 kB/s eta 0:00:01\n",
      "   --------------------------------- ---- 809.0/914.3 kB 116.4 kB/s eta 0:00:01\n",
      "   --------------------------------- ---- 809.0/914.3 kB 116.4 kB/s eta 0:00:01\n",
      "   --------------------------------- ---- 809.0/914.3 kB 116.4 kB/s eta 0:00:01\n",
      "   --------------------------------- ---- 809.0/914.3 kB 116.4 kB/s eta 0:00:01\n",
      "   --------------------------------- ---- 809.0/914.3 kB 116.4 kB/s eta 0:00:01\n",
      "   --------------------------------- ---- 809.0/914.3 kB 116.4 kB/s eta 0:00:01\n",
      "   ---------------------------------- --- 829.4/914.3 kB 107.4 kB/s eta 0:00:01\n",
      "   ---------------------------------- --- 829.4/914.3 kB 107.4 kB/s eta 0:00:01\n",
      "   ---------------------------------- --- 829.4/914.3 kB 107.4 kB/s eta 0:00:01\n",
      "   ---------------------------------- --- 829.4/914.3 kB 107.4 kB/s eta 0:00:01\n",
      "   ---------------------------------- --- 829.4/914.3 kB 107.4 kB/s eta 0:00:01\n",
      "   ---------------------------------- --- 829.4/914.3 kB 107.4 kB/s eta 0:00:01\n",
      "   ---------------------------------- --- 829.4/914.3 kB 107.4 kB/s eta 0:00:01\n",
      "   ---------------------------------- --- 829.4/914.3 kB 107.4 kB/s eta 0:00:01\n",
      "   ---------------------------------- --- 829.4/914.3 kB 107.4 kB/s eta 0:00:01\n",
      "   ---------------------------------- --- 829.4/914.3 kB 107.4 kB/s eta 0:00:01\n",
      "   ---------------------------------- --- 829.4/914.3 kB 107.4 kB/s eta 0:00:01\n",
      "   ---------------------------------- --- 829.4/914.3 kB 107.4 kB/s eta 0:00:01\n",
      "   ---------------------------------- --- 829.4/914.3 kB 107.4 kB/s eta 0:00:01\n",
      "   ----------------------------------- -- 849.9/914.3 kB 101.8 kB/s eta 0:00:01\n",
      "   ----------------------------------- -- 849.9/914.3 kB 101.8 kB/s eta 0:00:01\n",
      "   ----------------------------------- -- 849.9/914.3 kB 101.8 kB/s eta 0:00:01\n",
      "   ----------------------------------- -- 849.9/914.3 kB 101.8 kB/s eta 0:00:01\n",
      "   ----------------------------------- -- 849.9/914.3 kB 101.8 kB/s eta 0:00:01\n",
      "   ------------------------------------ -- 860.2/914.3 kB 99.4 kB/s eta 0:00:01\n",
      "   ------------------------------------ -- 860.2/914.3 kB 99.4 kB/s eta 0:00:01\n",
      "   ------------------------------------ -- 860.2/914.3 kB 99.4 kB/s eta 0:00:01\n",
      "   ------------------------------------- - 880.6/914.3 kB 99.8 kB/s eta 0:00:01\n",
      "   ------------------------------------- - 880.6/914.3 kB 99.8 kB/s eta 0:00:01\n",
      "   --------------------------------------  890.9/914.3 kB 99.8 kB/s eta 0:00:01\n",
      "   -------------------------------------- 914.3/914.3 kB 101.5 kB/s eta 0:00:00\n",
      "Downloading elastic_transport-8.17.1-py3-none-any.whl (64 kB)\n",
      "   ---------------------------------------- 0.0/65.0 kB ? eta -:--:--\n",
      "   ---------------------------------------- 0.0/65.0 kB ? eta -:--:--\n",
      "   ------ --------------------------------- 10.2/65.0 kB ? eta -:--:--\n",
      "   ------ --------------------------------- 10.2/65.0 kB ? eta -:--:--\n",
      "   ------------------ --------------------- 30.7/65.0 kB 220.2 kB/s eta 0:00:01\n",
      "   ------------------------- -------------- 41.0/65.0 kB 196.9 kB/s eta 0:00:01\n",
      "   ------------------------------------- -- 61.4/65.0 kB 234.9 kB/s eta 0:00:01\n",
      "   ---------------------------------------- 65.0/65.0 kB 233.9 kB/s eta 0:00:00\n",
      "Using cached urllib3-2.4.0-py3-none-any.whl (128 kB)\n",
      "Installing collected packages: urllib3, elastic-transport, elasticsearch\n",
      "Successfully installed elastic-transport-8.17.1 elasticsearch-9.0.2 urllib3-2.4.0\n"
     ]
    },
    {
     "name": "stderr",
     "output_type": "stream",
     "text": [
      "\n",
      "[notice] A new release of pip is available: 24.0 -> 25.1.1\n",
      "[notice] To update, run: python.exe -m pip install --upgrade pip\n"
     ]
    }
   ],
   "source": [
    "!pip install elasticsearch==8.10.0\n"
   ]
  },
  {
   "cell_type": "code",
   "execution_count": 23,
   "id": "2c05052f-a85a-4137-8398-0fd0be678599",
   "metadata": {},
   "outputs": [],
   "source": [
    "from elasticsearch import Elasticsearch"
   ]
  },
  {
   "cell_type": "code",
   "execution_count": 26,
   "id": "a78df1cc-5a5a-40b4-b673-19c7f0319453",
   "metadata": {},
   "outputs": [],
   "source": [
    "# es_client = Elasticsearch('http://localhost:9200') \n",
    "es_client = Elasticsearch(\n",
    "    \"http://localhost:9200\",\n",
    "    headers={\n",
    "        \"Accept\": \"application/vnd.elasticsearch+json; compatible-with=8\",\n",
    "        \"Content-Type\": \"application/vnd.elasticsearch+json; compatible-with=8\"\n",
    "    }\n",
    ")\n"
   ]
  },
  {
   "cell_type": "code",
   "execution_count": null,
   "id": "c9367c18-41ad-495e-9920-1a0c552f0d18",
   "metadata": {},
   "outputs": [],
   "source": [
    "index_settings = {\n",
    "    \"settings\": {\n",
    "        \"number_of_shards\": 1,\n",
    "        \"number_of_replicas\": 0\n",
    "    },\n",
    "    \"mappings\": {\n",
    "        \"properties\": {\n",
    "            \"text\": {\"type\": \"text\"},\n",
    "            \"section\": {\"type\": \"text\"},\n",
    "            \"question\": {\"type\": \"text\"},\n",
    "            \"course\": {\"type\": \"keyword\"} \n",
    "        }\n",
    "    }\n",
    "}\n",
    "\n",
    "index_name = \"course-questions\"\n",
    "\n",
    "es_client.indices.create(index=index_name, body=index_settings)\n"
   ]
  },
  {
   "cell_type": "code",
   "execution_count": 24,
   "id": "9f778c93-a5b6-4634-b42e-0c25083a2512",
   "metadata": {},
   "outputs": [
    {
     "data": {
      "text/plain": [
       "{'text': \"The purpose of this document is to capture frequently asked technical questions\\nThe exact day and hour of the course will be 15th Jan 2024 at 17h00. The course will start with the first  “Office Hours'' live.1\\nSubscribe to course public Google Calendar (it works from Desktop only).\\nRegister before the course starts using this link.\\nJoin the course Telegram channel with announcements.\\nDon’t forget to register in DataTalks.Club's Slack and join the channel.\",\n",
       " 'section': 'General course-related questions',\n",
       " 'question': 'Course - When will the course start?',\n",
       " 'course': 'data-engineering-zoomcamp'}"
      ]
     },
     "execution_count": 24,
     "metadata": {},
     "output_type": "execute_result"
    }
   ],
   "source": [
    "documents[0]"
   ]
  },
  {
   "cell_type": "code",
   "execution_count": 25,
   "id": "5c230059-e219-4a13-a7f8-ede4cf1b028f",
   "metadata": {},
   "outputs": [
    {
     "name": "stderr",
     "output_type": "stream",
     "text": [
      "/usr/local/python/3.10.13/lib/python3.10/site-packages/tqdm/auto.py:21: TqdmWarning: IProgress not found. Please update jupyter and ipywidgets. See https://ipywidgets.readthedocs.io/en/stable/user_install.html\n",
      "  from .autonotebook import tqdm as notebook_tqdm\n"
     ]
    }
   ],
   "source": [
    "from tqdm.auto import tqdm"
   ]
  },
  {
   "cell_type": "code",
   "execution_count": 26,
   "id": "70fe3c97-916d-42c0-bd7b-4f42d9056409",
   "metadata": {},
   "outputs": [
    {
     "name": "stderr",
     "output_type": "stream",
     "text": [
      "100%|██████████████████████████████████| 948/948 [00:28<00:00, 33.07it/s]\n"
     ]
    }
   ],
   "source": [
    "for doc in tqdm(documents):\n",
    "    es_client.index(index=index_name, document=doc)"
   ]
  },
  {
   "cell_type": "code",
   "execution_count": 36,
   "id": "f1bc1244-b8dc-4228-8171-c0507004db93",
   "metadata": {},
   "outputs": [],
   "source": [
    "query = 'I just disovered the course. Can I still join it?'"
   ]
  },
  {
   "cell_type": "code",
   "execution_count": 42,
   "id": "7c72e000-910b-4fb5-aa88-2561e7bc39f2",
   "metadata": {},
   "outputs": [],
   "source": [
    "def elastic_search(query):\n",
    "    search_query = {\n",
    "        \"size\": 5,\n",
    "        \"query\": {\n",
    "            \"bool\": {\n",
    "                \"must\": {\n",
    "                    \"multi_match\": {\n",
    "                        \"query\": query,\n",
    "                        \"fields\": [\"question^3\", \"text\", \"section\"],\n",
    "                        \"type\": \"best_fields\"\n",
    "                    }\n",
    "                },\n",
    "                \"filter\": {\n",
    "                    \"term\": {\n",
    "                        \"course\": \"data-engineering-zoomcamp\"\n",
    "                    }\n",
    "                }\n",
    "            }\n",
    "        }\n",
    "    }\n",
    "\n",
    "    response = es_client.search(index=index_name, body=search_query)\n",
    "    \n",
    "    result_docs = []\n",
    "    \n",
    "    for hit in response['hits']['hits']:\n",
    "        result_docs.append(hit['_source'])\n",
    "    \n",
    "    return result_docs"
   ]
  },
  {
   "cell_type": "code",
   "execution_count": 44,
   "id": "81abecbc-eb6b-428f-ab7d-7e21f58b64de",
   "metadata": {},
   "outputs": [],
   "source": [
    "def rag(query):\n",
    "    search_results = elastic_search(query)\n",
    "    prompt = build_prompt(query, search_results)\n",
    "    answer = llm(prompt)\n",
    "    return answer"
   ]
  },
  {
   "cell_type": "code",
   "execution_count": 45,
   "id": "0ea9315a-a619-4066-9e90-8c260f2c8450",
   "metadata": {},
   "outputs": [
    {
     "data": {
      "text/plain": [
       "'Yes, you can still join the course even if you discovered it after the start date. You are eligible to submit the homeworks, but be mindful of the deadlines for turning in the final projects. So make sure not to leave everything for the last minute.'"
      ]
     },
     "execution_count": 45,
     "metadata": {},
     "output_type": "execute_result"
    }
   ],
   "source": [
    "rag(query)"
   ]
  },
  {
   "cell_type": "code",
   "execution_count": null,
   "id": "d8095274-c9cd-4fd5-80d2-069fc951834f",
   "metadata": {},
   "outputs": [],
   "source": []
  }
 ],
 "metadata": {
  "kernelspec": {
   "display_name": "venv",
   "language": "python",
   "name": "python3"
  },
  "language_info": {
   "codemirror_mode": {
    "name": "ipython",
    "version": 3
   },
   "file_extension": ".py",
   "mimetype": "text/x-python",
   "name": "python",
   "nbconvert_exporter": "python",
   "pygments_lexer": "ipython3",
   "version": "3.12.3"
  }
 },
 "nbformat": 4,
 "nbformat_minor": 5
}
